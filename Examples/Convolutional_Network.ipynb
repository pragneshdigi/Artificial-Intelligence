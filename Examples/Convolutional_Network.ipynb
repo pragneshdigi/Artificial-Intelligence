{
 "cells": [
  {
   "cell_type": "code",
   "execution_count": 1,
   "metadata": {},
   "outputs": [
    {
     "name": "stdout",
     "output_type": "stream",
     "text": [
      "WARNING:tensorflow:From <ipython-input-1-fbc3036e4c69>:4: read_data_sets (from tensorflow.contrib.learn.python.learn.datasets.mnist) is deprecated and will be removed in a future version.\n",
      "Instructions for updating:\n",
      "Please use alternatives such as official/mnist/dataset.py from tensorflow/models.\n",
      "WARNING:tensorflow:From C:\\ProgramData\\Anaconda3\\envs\\tensorflow\\lib\\site-packages\\tensorflow\\contrib\\learn\\python\\learn\\datasets\\mnist.py:260: maybe_download (from tensorflow.contrib.learn.python.learn.datasets.base) is deprecated and will be removed in a future version.\n",
      "Instructions for updating:\n",
      "Please write your own downloading logic.\n",
      "WARNING:tensorflow:From C:\\ProgramData\\Anaconda3\\envs\\tensorflow\\lib\\site-packages\\tensorflow\\contrib\\learn\\python\\learn\\datasets\\mnist.py:262: extract_images (from tensorflow.contrib.learn.python.learn.datasets.mnist) is deprecated and will be removed in a future version.\n",
      "Instructions for updating:\n",
      "Please use tf.data to implement this functionality.\n",
      "Extracting /tmp/data/train-images-idx3-ubyte.gz\n",
      "WARNING:tensorflow:From C:\\ProgramData\\Anaconda3\\envs\\tensorflow\\lib\\site-packages\\tensorflow\\contrib\\learn\\python\\learn\\datasets\\mnist.py:267: extract_labels (from tensorflow.contrib.learn.python.learn.datasets.mnist) is deprecated and will be removed in a future version.\n",
      "Instructions for updating:\n",
      "Please use tf.data to implement this functionality.\n",
      "Extracting /tmp/data/train-labels-idx1-ubyte.gz\n",
      "WARNING:tensorflow:From C:\\ProgramData\\Anaconda3\\envs\\tensorflow\\lib\\site-packages\\tensorflow\\contrib\\learn\\python\\learn\\datasets\\mnist.py:110: dense_to_one_hot (from tensorflow.contrib.learn.python.learn.datasets.mnist) is deprecated and will be removed in a future version.\n",
      "Instructions for updating:\n",
      "Please use tf.one_hot on tensors.\n",
      "Extracting /tmp/data/t10k-images-idx3-ubyte.gz\n",
      "Extracting /tmp/data/t10k-labels-idx1-ubyte.gz\n",
      "WARNING:tensorflow:From C:\\ProgramData\\Anaconda3\\envs\\tensorflow\\lib\\site-packages\\tensorflow\\contrib\\learn\\python\\learn\\datasets\\mnist.py:290: DataSet.__init__ (from tensorflow.contrib.learn.python.learn.datasets.mnist) is deprecated and will be removed in a future version.\n",
      "Instructions for updating:\n",
      "Please use alternatives such as official/mnist/dataset.py from tensorflow/models.\n"
     ]
    }
   ],
   "source": [
    "import tensorflow as tf\n",
    "\n",
    "from tensorflow.examples.tutorials.mnist import input_data\n",
    "mnist = input_data.read_data_sets(\"/tmp/data/\", one_hot=True)"
   ]
  },
  {
   "cell_type": "code",
   "execution_count": 2,
   "metadata": {},
   "outputs": [],
   "source": [
    "learning_rate = 0.001\n",
    "num_steps = 500\n",
    "batch_size = 128\n",
    "display_step = 10\n",
    "\n",
    "num_input = 784\n",
    "num_classes = 10\n",
    "dropout = 0.75\n",
    "\n",
    "X = tf.placeholder(tf.float32, [None, num_input])\n",
    "Y = tf.placeholder(tf.float32, [None, num_classes])\n",
    "keep_prob = tf.placeholder(tf.float32)"
   ]
  },
  {
   "cell_type": "code",
   "execution_count": 4,
   "metadata": {},
   "outputs": [],
   "source": [
    "def conv2d(x, W, b, strides=1):\n",
    "    x = tf.nn.conv2d(x, W, strides=[1, strides, strides, 1], padding='SAME')\n",
    "    x = tf.nn.bias_add(x, b)\n",
    "    return tf.nn.relu(x)\n",
    "\n",
    "def maxpool2d(x, k=2):\n",
    "    return tf.nn.max_pool(x, ksize=[1,k, k, 1], strides=[1, k, k,1], \n",
    "                          padding='SAME')\n",
    "\n",
    "def conv_net(x, weights, biases, dropout):\n",
    "    \n",
    "    x = tf.reshape(x, shape=[-1, 28, 28, 1])\n",
    "    \n",
    "    conv1 = conv2d(x, weights['wc1'], biases['bc1'])\n",
    "    \n",
    "    conv1 = maxpool2d(conv1, k=2)\n",
    "    \n",
    "    conv2 = conv2d(conv1, weights['wc2'], biases['bc2'])\n",
    "    \n",
    "    conv2 = maxpool2d(conv2, k=2)\n",
    "    \n",
    "    fc1 = tf.reshape(conv2, [-1, weights['wd1'].get_shape().as_list()[0]])\n",
    "    fc1 = tf.add(tf.matmul(fc1, weights['wd1']), biases['bd1'])\n",
    "    fc1 = tf.nn.relu(fc1)\n",
    "    \n",
    "    fc1 = tf.nn.dropout(fc1, dropout)\n",
    "    \n",
    "    out = tf.add(tf.matmul(fc1, weights['out']), biases['out'])\n",
    "    return out"
   ]
  },
  {
   "cell_type": "code",
   "execution_count": 6,
   "metadata": {},
   "outputs": [
    {
     "name": "stdout",
     "output_type": "stream",
     "text": [
      "WARNING:tensorflow:From <ipython-input-6-5cf042a9c754>:19: softmax_cross_entropy_with_logits (from tensorflow.python.ops.nn_ops) is deprecated and will be removed in a future version.\n",
      "Instructions for updating:\n",
      "\n",
      "Future major versions of TensorFlow will allow gradients to flow\n",
      "into the labels input on backprop by default.\n",
      "\n",
      "See `tf.nn.softmax_cross_entropy_with_logits_v2`.\n",
      "\n"
     ]
    }
   ],
   "source": [
    "weights = {\n",
    "    'wc1': tf.Variable(tf.random_normal([5, 5, 1, 32])),\n",
    "    'wc2': tf.Variable(tf.random_normal([5, 5, 32, 64])),\n",
    "    'wd1': tf.Variable(tf.random_normal([7*7*64, 1024])),\n",
    "    'out': tf.Variable(tf.random_normal([1024, num_classes]))\n",
    "}\n",
    "\n",
    "biases = {\n",
    "    'bc1': tf.Variable(tf.random_normal([32])),\n",
    "    'bc2': tf.Variable(tf.random_normal([64])),\n",
    "    'bd1': tf.Variable(tf.random_normal([1024])),\n",
    "    'out': tf.Variable(tf.random_normal([num_classes]))\n",
    "}\n",
    "\n",
    "logits = conv_net(X, weights, biases, keep_prob)\n",
    "prediction = tf.nn.softmax(logits)\n",
    "\n",
    "loss_op = tf.reduce_mean(tf.nn.softmax_cross_entropy_with_logits(\n",
    "        logits = logits, labels=Y))\n",
    "optimizer = tf.train.AdamOptimizer(learning_rate=learning_rate)\n",
    "train_op = optimizer.minimize(loss_op)\n",
    "\n",
    "correct_pred = tf.equal(tf.argmax(prediction, 1), tf.argmax(Y,1))\n",
    "accuracy = tf.reduce_mean(tf.cast(correct_pred, tf.float32))\n",
    "\n",
    "init = tf.global_variables_initializer()"
   ]
  },
  {
   "cell_type": "code",
   "execution_count": 7,
   "metadata": {},
   "outputs": [
    {
     "name": "stdout",
     "output_type": "stream",
     "text": [
      "Step 1, Minibatch Loss= 90358.6250, Training Accuracy= 0.156\n",
      "Step 10, Minibatch Loss= 33145.6094, Training Accuracy= 0.211\n",
      "Step 20, Minibatch Loss= 14302.3271, Training Accuracy= 0.523\n",
      "Step 30, Minibatch Loss= 9235.0068, Training Accuracy= 0.555\n",
      "Step 40, Minibatch Loss= 5229.3242, Training Accuracy= 0.742\n",
      "Step 50, Minibatch Loss= 3842.8062, Training Accuracy= 0.766\n",
      "Step 60, Minibatch Loss= 4160.3203, Training Accuracy= 0.820\n",
      "Step 70, Minibatch Loss= 3130.8843, Training Accuracy= 0.828\n",
      "Step 80, Minibatch Loss= 2430.6392, Training Accuracy= 0.828\n",
      "Step 90, Minibatch Loss= 3178.7461, Training Accuracy= 0.867\n",
      "Step 100, Minibatch Loss= 1512.0127, Training Accuracy= 0.891\n",
      "Step 110, Minibatch Loss= 1729.7281, Training Accuracy= 0.883\n",
      "Step 120, Minibatch Loss= 2885.5757, Training Accuracy= 0.883\n",
      "Step 130, Minibatch Loss= 1177.0759, Training Accuracy= 0.922\n",
      "Step 140, Minibatch Loss= 1063.0033, Training Accuracy= 0.891\n",
      "Step 150, Minibatch Loss= 3150.8818, Training Accuracy= 0.859\n",
      "Step 160, Minibatch Loss= 2075.4675, Training Accuracy= 0.914\n",
      "Step 170, Minibatch Loss= 1447.8428, Training Accuracy= 0.914\n",
      "Step 180, Minibatch Loss= 1267.4121, Training Accuracy= 0.906\n",
      "Step 190, Minibatch Loss= 904.5846, Training Accuracy= 0.930\n",
      "Step 200, Minibatch Loss= 946.2375, Training Accuracy= 0.914\n",
      "Step 210, Minibatch Loss= 2348.8525, Training Accuracy= 0.859\n",
      "Step 220, Minibatch Loss= 1023.4453, Training Accuracy= 0.938\n",
      "Step 230, Minibatch Loss= 1818.1490, Training Accuracy= 0.906\n",
      "Step 240, Minibatch Loss= 1242.6946, Training Accuracy= 0.938\n",
      "Step 250, Minibatch Loss= 1127.2625, Training Accuracy= 0.906\n",
      "Step 260, Minibatch Loss= 1461.9938, Training Accuracy= 0.922\n",
      "Step 270, Minibatch Loss= 889.1796, Training Accuracy= 0.930\n",
      "Step 280, Minibatch Loss= 767.9178, Training Accuracy= 0.953\n",
      "Step 290, Minibatch Loss= 506.5756, Training Accuracy= 0.953\n",
      "Step 300, Minibatch Loss= 814.3320, Training Accuracy= 0.953\n",
      "Step 310, Minibatch Loss= 792.5968, Training Accuracy= 0.961\n",
      "Step 320, Minibatch Loss= 539.6599, Training Accuracy= 0.961\n",
      "Step 330, Minibatch Loss= 1432.1401, Training Accuracy= 0.883\n",
      "Step 340, Minibatch Loss= 639.6877, Training Accuracy= 0.914\n",
      "Step 350, Minibatch Loss= 1231.6425, Training Accuracy= 0.930\n",
      "Step 360, Minibatch Loss= 791.5873, Training Accuracy= 0.930\n",
      "Step 370, Minibatch Loss= 1657.7960, Training Accuracy= 0.898\n",
      "Step 380, Minibatch Loss= 79.1295, Training Accuracy= 0.984\n",
      "Step 390, Minibatch Loss= 818.8691, Training Accuracy= 0.922\n",
      "Step 400, Minibatch Loss= 532.7100, Training Accuracy= 0.953\n",
      "Step 410, Minibatch Loss= 540.2267, Training Accuracy= 0.945\n",
      "Step 420, Minibatch Loss= 407.9338, Training Accuracy= 0.945\n",
      "Step 430, Minibatch Loss= 347.0010, Training Accuracy= 0.977\n",
      "Step 440, Minibatch Loss= 231.8403, Training Accuracy= 0.961\n",
      "Step 450, Minibatch Loss= 703.1385, Training Accuracy= 0.938\n",
      "Step 460, Minibatch Loss= 533.1143, Training Accuracy= 0.938\n",
      "Step 470, Minibatch Loss= 375.4933, Training Accuracy= 0.969\n",
      "Step 480, Minibatch Loss= 733.4958, Training Accuracy= 0.969\n",
      "Step 490, Minibatch Loss= 467.4975, Training Accuracy= 0.938\n",
      "Step 500, Minibatch Loss= 578.1401, Training Accuracy= 0.969\n",
      "Optimization Finished!\n",
      "Testing Accuracy: 0.9609375\n"
     ]
    }
   ],
   "source": [
    "with tf.Session() as sess:\n",
    "    sess.run(init)\n",
    "    \n",
    "    for step in range(1, num_steps+1):\n",
    "        batch_x, batch_y = mnist.train.next_batch(batch_size)\n",
    "        \n",
    "        sess.run(train_op, feed_dict={X: batch_x, Y: batch_y, keep_prob: dropout})\n",
    "        if step % display_step == 0 or step == 1:\n",
    "            \n",
    "            loss, acc = sess.run([loss_op, accuracy], feed_dict={X: batch_x,\n",
    "                                                                Y: batch_y,\n",
    "                                                                keep_prob: 1.0})\n",
    "            print(\"Step \" + str(step) + \", Minibatch Loss= \" + \\\n",
    "                 \"{:.4f}\".format(loss) + \", Training Accuracy= \" + \\\n",
    "                 \"{:.3f}\".format(acc))\n",
    "            \n",
    "    print(\"Optimization Finished!\")\n",
    "    \n",
    "    print(\"Testing Accuracy:\", \\\n",
    "         sess.run(accuracy, feed_dict={X: mnist.test.images[:256],\n",
    "                                      Y: mnist.test.labels[:256],\n",
    "                                      keep_prob: 1.0}))"
   ]
  },
  {
   "cell_type": "code",
   "execution_count": null,
   "metadata": {},
   "outputs": [],
   "source": []
  }
 ],
 "metadata": {
  "kernelspec": {
   "display_name": "Python 3",
   "language": "python",
   "name": "python3"
  },
  "language_info": {
   "codemirror_mode": {
    "name": "ipython",
    "version": 3
   },
   "file_extension": ".py",
   "mimetype": "text/x-python",
   "name": "python",
   "nbconvert_exporter": "python",
   "pygments_lexer": "ipython3",
   "version": "3.6.7"
  }
 },
 "nbformat": 4,
 "nbformat_minor": 2
}
