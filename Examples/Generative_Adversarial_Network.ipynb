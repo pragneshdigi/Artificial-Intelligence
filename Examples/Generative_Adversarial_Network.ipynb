{
 "cells": [
  {
   "cell_type": "code",
   "execution_count": 1,
   "metadata": {},
   "outputs": [],
   "source": [
    "import matplotlib.pyplot as plt\n",
    "import numpy  as np\n",
    "import tensorflow as tf"
   ]
  },
  {
   "cell_type": "code",
   "execution_count": 3,
   "metadata": {},
   "outputs": [
    {
     "name": "stdout",
     "output_type": "stream",
     "text": [
      "WARNING:tensorflow:From <ipython-input-3-c3d55fec490c>:2: read_data_sets (from tensorflow.contrib.learn.python.learn.datasets.mnist) is deprecated and will be removed in a future version.\n",
      "Instructions for updating:\n",
      "Please use alternatives such as official/mnist/dataset.py from tensorflow/models.\n",
      "WARNING:tensorflow:From C:\\ProgramData\\Anaconda3\\envs\\tensorflow\\lib\\site-packages\\tensorflow\\contrib\\learn\\python\\learn\\datasets\\mnist.py:260: maybe_download (from tensorflow.contrib.learn.python.learn.datasets.base) is deprecated and will be removed in a future version.\n",
      "Instructions for updating:\n",
      "Please write your own downloading logic.\n",
      "WARNING:tensorflow:From C:\\ProgramData\\Anaconda3\\envs\\tensorflow\\lib\\site-packages\\tensorflow\\contrib\\learn\\python\\learn\\datasets\\mnist.py:262: extract_images (from tensorflow.contrib.learn.python.learn.datasets.mnist) is deprecated and will be removed in a future version.\n",
      "Instructions for updating:\n",
      "Please use tf.data to implement this functionality.\n",
      "Extracting /tmp/data/train-images-idx3-ubyte.gz\n",
      "WARNING:tensorflow:From C:\\ProgramData\\Anaconda3\\envs\\tensorflow\\lib\\site-packages\\tensorflow\\contrib\\learn\\python\\learn\\datasets\\mnist.py:267: extract_labels (from tensorflow.contrib.learn.python.learn.datasets.mnist) is deprecated and will be removed in a future version.\n",
      "Instructions for updating:\n",
      "Please use tf.data to implement this functionality.\n",
      "Extracting /tmp/data/train-labels-idx1-ubyte.gz\n",
      "WARNING:tensorflow:From C:\\ProgramData\\Anaconda3\\envs\\tensorflow\\lib\\site-packages\\tensorflow\\contrib\\learn\\python\\learn\\datasets\\mnist.py:110: dense_to_one_hot (from tensorflow.contrib.learn.python.learn.datasets.mnist) is deprecated and will be removed in a future version.\n",
      "Instructions for updating:\n",
      "Please use tf.one_hot on tensors.\n",
      "Extracting /tmp/data/t10k-images-idx3-ubyte.gz\n",
      "Extracting /tmp/data/t10k-labels-idx1-ubyte.gz\n",
      "WARNING:tensorflow:From C:\\ProgramData\\Anaconda3\\envs\\tensorflow\\lib\\site-packages\\tensorflow\\contrib\\learn\\python\\learn\\datasets\\mnist.py:290: DataSet.__init__ (from tensorflow.contrib.learn.python.learn.datasets.mnist) is deprecated and will be removed in a future version.\n",
      "Instructions for updating:\n",
      "Please use alternatives such as official/mnist/dataset.py from tensorflow/models.\n"
     ]
    }
   ],
   "source": [
    "from tensorflow.examples.tutorials.mnist import input_data\n",
    "mnist = input_data.read_data_sets(\"/tmp/data/\", one_hot=True)"
   ]
  },
  {
   "cell_type": "code",
   "execution_count": 4,
   "metadata": {},
   "outputs": [],
   "source": [
    "num_steps = 70000\n",
    "batch_size = 128\n",
    "learning_rate = 0.0002\n",
    "\n",
    "image_dim = 784\n",
    "gen_hidden_dim = 256\n",
    "disc_hidden_dim = 256\n",
    "noise_dim = 100\n",
    "\n",
    "def glorot_init(shape):\n",
    "    return tf.random_normal(shape=shape, stddev=1. / tf.sqrt(shape[0] / 2.))"
   ]
  },
  {
   "cell_type": "code",
   "execution_count": 5,
   "metadata": {},
   "outputs": [],
   "source": [
    "weights = {\n",
    "    'gen_hidden1': tf.Variable(glorot_init([noise_dim, gen_hidden_dim])),\n",
    "    'gen_out': tf.Variable(glorot_init([gen_hidden_dim, image_dim])),\n",
    "    'disc_hidden1': tf.Variable(glorot_init([image_dim, disc_hidden_dim])),\n",
    "    'disc_out': tf.Variable(glorot_init([disc_hidden_dim, 1])),\n",
    "}\n",
    "biases = {\n",
    "    'gen_hidden1': tf.Variable(tf.zeros([gen_hidden_dim])),\n",
    "    'gen_out': tf.Variable(tf.zeros([image_dim])),\n",
    "    'disc_hidden1': tf.Variable(tf.zeros([disc_hidden_dim])),\n",
    "    'disc_out': tf.Variable(tf.zeros([1])),\n",
    "}"
   ]
  },
  {
   "cell_type": "code",
   "execution_count": 11,
   "metadata": {},
   "outputs": [],
   "source": [
    "def generator(x):\n",
    "    hidden_layer = tf.matmul(x, weights['gen_hidden1'])\n",
    "    hidden_layer = tf.add(hidden_layer, biases['gen_hidden1'])\n",
    "    hidden_layer = tf.nn.relu(hidden_layer)\n",
    "    out_layer = tf.matmul(hidden_layer, weights['gen_out'])\n",
    "    out_layer = tf.add(out_layer, biases['gen_out'])\n",
    "    out_layer = tf.nn.sigmoid(out_layer)\n",
    "    return out_layer\n",
    "\n",
    "def discriminator(x):\n",
    "    hidden_layer = tf.matmul(x, weights['disc_hidden1'])\n",
    "    hidden_layer = tf.add(hidden_layer, biases['disc_hidden1'])\n",
    "    hidden_layer = tf.nn.relu(hidden_layer)\n",
    "    out_layer = tf.matmul(hidden_layer, weights['disc_out'])\n",
    "    out_layer = tf.add(out_layer, biases['disc_out'])\n",
    "    out_layer = tf.nn.sigmoid(out_layer)\n",
    "    return out_layer\n",
    "\n",
    "gen_input = tf.placeholder(tf.float32, shape=[None, noise_dim], name='input_noise')\n",
    "disc_input = tf.placeholder(tf.float32, shape=[None, image_dim], name='disc_input')\n",
    "\n",
    "gen_sample = generator(gen_input)\n",
    "\n",
    "disc_real = discriminator(disc_input)\n",
    "disc_fake = discriminator(gen_sample)\n",
    "\n",
    "gen_loss = -tf.reduce_mean(tf.log(disc_fake))\n",
    "disc_loss = -tf.reduce_mean(tf.log(disc_real) + tf.log(1. - disc_fake))\n",
    "\n",
    "optimizer_gen = tf.train.AdamOptimizer(learning_rate=learning_rate)\n",
    "optimizer_disc = tf.train.AdamOptimizer(learning_rate=learning_rate)\n",
    "\n",
    "gen_vars = [weights['gen_hidden1'], weights['gen_out'],\n",
    "            biases['gen_hidden1'], biases['gen_out']]\n",
    "\n",
    "disc_vars = [weights['disc_hidden1'], weights['disc_out'],\n",
    "           biases['disc_hidden1'], biases['disc_out']]\n",
    "    \n",
    "train_gen = optimizer_gen.minimize(gen_loss, var_list=gen_vars)\n",
    "train_disc = optimizer_disc.minimize(disc_loss, var_list=disc_vars)\n",
    "\n",
    "init = tf.global_variables_initializer()"
   ]
  },
  {
   "cell_type": "code",
   "execution_count": 12,
   "metadata": {},
   "outputs": [
    {
     "name": "stdout",
     "output_type": "stream",
     "text": [
      "Step 1: Generator Loss: 1.067574, Discriminator Loss: 1.339654\n",
      "Step 2000: Generator Loss: 4.757660, Discriminator Loss: 0.025383\n",
      "Step 4000: Generator Loss: 3.578325, Discriminator Loss: 0.145611\n",
      "Step 6000: Generator Loss: 3.446482, Discriminator Loss: 0.201216\n",
      "Step 8000: Generator Loss: 4.044057, Discriminator Loss: 0.169533\n",
      "Step 10000: Generator Loss: 3.634518, Discriminator Loss: 0.238730\n",
      "Step 12000: Generator Loss: 3.433539, Discriminator Loss: 0.215795\n",
      "Step 14000: Generator Loss: 3.223790, Discriminator Loss: 0.302080\n",
      "Step 16000: Generator Loss: 3.338311, Discriminator Loss: 0.262065\n",
      "Step 18000: Generator Loss: 3.690632, Discriminator Loss: 0.234647\n",
      "Step 20000: Generator Loss: 3.137983, Discriminator Loss: 0.318629\n",
      "Step 22000: Generator Loss: 3.773463, Discriminator Loss: 0.243195\n",
      "Step 24000: Generator Loss: 3.174602, Discriminator Loss: 0.329736\n",
      "Step 26000: Generator Loss: 3.545813, Discriminator Loss: 0.529756\n",
      "Step 28000: Generator Loss: 2.867740, Discriminator Loss: 0.443014\n",
      "Step 30000: Generator Loss: 3.065620, Discriminator Loss: 0.381094\n",
      "Step 32000: Generator Loss: 3.057165, Discriminator Loss: 0.340062\n",
      "Step 34000: Generator Loss: 3.130103, Discriminator Loss: 0.435543\n",
      "Step 36000: Generator Loss: 3.069384, Discriminator Loss: 0.422904\n",
      "Step 38000: Generator Loss: 2.710900, Discriminator Loss: 0.449502\n",
      "Step 40000: Generator Loss: 3.104110, Discriminator Loss: 0.555106\n",
      "Step 42000: Generator Loss: 2.810802, Discriminator Loss: 0.426373\n",
      "Step 44000: Generator Loss: 2.975207, Discriminator Loss: 0.433125\n",
      "Step 46000: Generator Loss: 2.757144, Discriminator Loss: 0.449165\n",
      "Step 48000: Generator Loss: 2.718371, Discriminator Loss: 0.482424\n",
      "Step 50000: Generator Loss: 2.954567, Discriminator Loss: 0.480476\n",
      "Step 52000: Generator Loss: 2.408613, Discriminator Loss: 0.455833\n",
      "Step 54000: Generator Loss: 2.539404, Discriminator Loss: 0.445152\n",
      "Step 56000: Generator Loss: 3.138540, Discriminator Loss: 0.364499\n",
      "Step 58000: Generator Loss: 2.923040, Discriminator Loss: 0.435322\n",
      "Step 60000: Generator Loss: 2.713293, Discriminator Loss: 0.411355\n",
      "Step 62000: Generator Loss: 2.916014, Discriminator Loss: 0.486285\n",
      "Step 64000: Generator Loss: 2.833509, Discriminator Loss: 0.478718\n",
      "Step 66000: Generator Loss: 3.235452, Discriminator Loss: 0.362487\n",
      "Step 68000: Generator Loss: 3.040425, Discriminator Loss: 0.393752\n",
      "Step 70000: Generator Loss: 2.691435, Discriminator Loss: 0.452386\n"
     ]
    }
   ],
   "source": [
    "sess = tf.Session()\n",
    "\n",
    "sess.run(init)\n",
    "\n",
    "for i in range(1, num_steps+1):\n",
    "    \n",
    "    batch_x, _ = mnist.train.next_batch(batch_size)\n",
    "    \n",
    "    z = np.random.uniform(-1., 1., size=[batch_size, noise_dim])\n",
    "    \n",
    "    feed_dict = {disc_input: batch_x, gen_input:z}\n",
    "    _, _, gl, dl = sess.run([train_gen, train_disc, gen_loss, disc_loss],\n",
    "                           feed_dict=feed_dict)\n",
    "    \n",
    "    if i % 2000 == 0 or i == 1:\n",
    "        print('Step %i: Generator Loss: %f, Discriminator Loss: %f' % (i, gl, dl))"
   ]
  },
  {
   "cell_type": "code",
   "execution_count": 15,
   "metadata": {},
   "outputs": [
    {
     "data": {
      "image/png": "[encoded data removed]",
      "text/plain": [
       "<Figure size 432x432 with 1 Axes>"
      ]
     },
     "metadata": {
      "needs_background": "light"
     },
     "output_type": "display_data"
    }
   ],
   "source": [
    "n = 6\n",
    "canvas = np.empty((28 * n, 28 * n))\n",
    "for i in range(n):\n",
    "    z = np.random.uniform(-1., 1., size=[n, noise_dim])\n",
    "    \n",
    "    g = sess.run(gen_sample, feed_dict={gen_input: z})\n",
    "    \n",
    "    g = -1 * (g - 1)\n",
    "    for j in range(n):\n",
    "        canvas[i * 28:(i + 1) * 28, j * 28:(j + 1) * 28] = g[j].reshape([28,28])             \n",
    "\n",
    "plt.figure(figsize=(n, n))\n",
    "plt.imshow(canvas, origin=\"upper\", cmap=\"gray\")\n",
    "plt.show()"
   ]
  },
  {
   "cell_type": "code",
   "execution_count": null,
   "metadata": {},
   "outputs": [],
   "source": []
  }
 ],
 "metadata": {
  "kernelspec": {
   "display_name": "Python 3",
   "language": "python",
   "name": "python3"
  },
  "language_info": {
   "codemirror_mode": {
    "name": "ipython",
    "version": 3
   },
   "file_extension": ".py",
   "mimetype": "text/x-python",
   "name": "python",
   "nbconvert_exporter": "python",
   "pygments_lexer": "ipython3",
   "version": "3.6.7"
  }
 },
 "nbformat": 4,
 "nbformat_minor": 2
}
