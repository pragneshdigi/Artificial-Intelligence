{
 "cells": [
  {
   "cell_type": "code",
   "execution_count": 1,
   "metadata": {},
   "outputs": [
    {
     "name": "stdout",
     "output_type": "stream",
     "text": [
      "WARNING:tensorflow:From <ipython-input-1-cbdb1417a6e9>:6: read_data_sets (from tensorflow.contrib.learn.python.learn.datasets.mnist) is deprecated and will be removed in a future version.\n",
      "Instructions for updating:\n",
      "Please use alternatives such as official/mnist/dataset.py from tensorflow/models.\n",
      "WARNING:tensorflow:From C:\\ProgramData\\Anaconda3\\envs\\tensorflow\\lib\\site-packages\\tensorflow\\contrib\\learn\\python\\learn\\datasets\\mnist.py:260: maybe_download (from tensorflow.contrib.learn.python.learn.datasets.base) is deprecated and will be removed in a future version.\n",
      "Instructions for updating:\n",
      "Please write your own downloading logic.\n",
      "WARNING:tensorflow:From C:\\ProgramData\\Anaconda3\\envs\\tensorflow\\lib\\site-packages\\tensorflow\\contrib\\learn\\python\\learn\\datasets\\mnist.py:262: extract_images (from tensorflow.contrib.learn.python.learn.datasets.mnist) is deprecated and will be removed in a future version.\n",
      "Instructions for updating:\n",
      "Please use tf.data to implement this functionality.\n",
      "Extracting /tmp/data/train-images-idx3-ubyte.gz\n",
      "WARNING:tensorflow:From C:\\ProgramData\\Anaconda3\\envs\\tensorflow\\lib\\site-packages\\tensorflow\\contrib\\learn\\python\\learn\\datasets\\mnist.py:267: extract_labels (from tensorflow.contrib.learn.python.learn.datasets.mnist) is deprecated and will be removed in a future version.\n",
      "Instructions for updating:\n",
      "Please use tf.data to implement this functionality.\n",
      "Extracting /tmp/data/train-labels-idx1-ubyte.gz\n",
      "WARNING:tensorflow:From C:\\ProgramData\\Anaconda3\\envs\\tensorflow\\lib\\site-packages\\tensorflow\\contrib\\learn\\python\\learn\\datasets\\mnist.py:110: dense_to_one_hot (from tensorflow.contrib.learn.python.learn.datasets.mnist) is deprecated and will be removed in a future version.\n",
      "Instructions for updating:\n",
      "Please use tf.one_hot on tensors.\n",
      "Extracting /tmp/data/t10k-images-idx3-ubyte.gz\n",
      "Extracting /tmp/data/t10k-labels-idx1-ubyte.gz\n",
      "WARNING:tensorflow:From C:\\ProgramData\\Anaconda3\\envs\\tensorflow\\lib\\site-packages\\tensorflow\\contrib\\learn\\python\\learn\\datasets\\mnist.py:290: DataSet.__init__ (from tensorflow.contrib.learn.python.learn.datasets.mnist) is deprecated and will be removed in a future version.\n",
      "Instructions for updating:\n",
      "Please use alternatives such as official/mnist/dataset.py from tensorflow/models.\n"
     ]
    }
   ],
   "source": [
    "import tensorflow as tf\n",
    "from tensorflow.contrib import rnn\n",
    "import numpy as np\n",
    "\n",
    "from tensorflow.examples.tutorials.mnist import input_data\n",
    "mnist = input_data.read_data_sets(\"/tmp/data/\", one_hot=True)"
   ]
  },
  {
   "cell_type": "code",
   "execution_count": 2,
   "metadata": {},
   "outputs": [],
   "source": [
    "learning_rate = 0.001\n",
    "training_steps = 10000\n",
    "batch_size = 128\n",
    "display_step = 200\n",
    "\n",
    "num_input = 28\n",
    "timesteps = 28\n",
    "num_hidden = 128\n",
    "num_classes = 10\n",
    "\n",
    "X = tf.placeholder(\"float\", [None, timesteps, num_input])\n",
    "Y = tf.placeholder(\"float\", [None, num_classes])"
   ]
  },
  {
   "cell_type": "code",
   "execution_count": 3,
   "metadata": {},
   "outputs": [],
   "source": [
    "weights = {\n",
    "    'out': tf.Variable(tf.random_normal([2*num_hidden, num_classes]))\n",
    "}\n",
    "biases = {\n",
    "    'out': tf.Variable(tf.random_normal([num_classes]))\n",
    "}"
   ]
  },
  {
   "cell_type": "code",
   "execution_count": 4,
   "metadata": {},
   "outputs": [],
   "source": [
    "def BiRNN(x, weights, biases):\n",
    "    x = tf.unstack(x, timesteps, 1)\n",
    "    \n",
    "    lstm_fw_cell = rnn.BasicLSTMCell(num_hidden, forget_bias=1.0)\n",
    "    lstm_bw_cell = rnn.BasicLSTMCell(num_hidden, forget_bias= 1.0)\n",
    "    \n",
    "    try: \n",
    "        outputs, _, _ = rnn.static_bidirectional_rnn(lstm_fw_cell, lstm_bw_cell,\n",
    "                                                    x, dtype= tf.float32)\n",
    "    except Exception: \n",
    "        outputs = rnn.static_bidirectional_rnn(lstm_fw_cell, lst_bw_cell, x,\n",
    "                                              dtype=tf.float32)\n",
    "        \n",
    "    return tf.matmul(outputs[-1], weights['out']) + biases['out']"
   ]
  },
  {
   "cell_type": "code",
   "execution_count": 5,
   "metadata": {},
   "outputs": [
    {
     "name": "stdout",
     "output_type": "stream",
     "text": [
      "WARNING:tensorflow:From <ipython-input-4-1922b3d4bf4e>:4: BasicLSTMCell.__init__ (from tensorflow.python.ops.rnn_cell_impl) is deprecated and will be removed in a future version.\n",
      "Instructions for updating:\n",
      "This class is deprecated, please use tf.nn.rnn_cell.LSTMCell, which supports all the feature this cell currently has. Please replace the existing code with tf.nn.rnn_cell.LSTMCell(name='basic_lstm_cell').\n",
      "WARNING:tensorflow:From <ipython-input-5-dfdbbed1e1f4>:5: softmax_cross_entropy_with_logits (from tensorflow.python.ops.nn_ops) is deprecated and will be removed in a future version.\n",
      "Instructions for updating:\n",
      "\n",
      "Future major versions of TensorFlow will allow gradients to flow\n",
      "into the labels input on backprop by default.\n",
      "\n",
      "See `tf.nn.softmax_cross_entropy_with_logits_v2`.\n",
      "\n"
     ]
    }
   ],
   "source": [
    "logits = BiRNN(X, weights, biases)\n",
    "prediction = tf.nn.softmax(logits)\n",
    "\n",
    "loss_op = tf.reduce_mean(tf.nn.softmax_cross_entropy_with_logits(\n",
    "    logits=logits, labels=Y))\n",
    "optimizer = tf.train.GradientDescentOptimizer(learning_rate=learning_rate)\n",
    "train_op = optimizer.minimize(loss_op)\n",
    "\n",
    "correct_pred = tf.equal(tf.argmax(prediction, 1), tf.argmax(Y,1))\n",
    "accuracy = tf.reduce_mean(tf.cast(correct_pred, tf.float32))\n",
    "\n",
    "init = tf.global_variables_initializer()"
   ]
  },
  {
   "cell_type": "code",
   "execution_count": 6,
   "metadata": {},
   "outputs": [
    {
     "name": "stdout",
     "output_type": "stream",
     "text": [
      "Step 1, Minibatch Loss= 2.7760, Training Accuracy= 0.102\n",
      "Step 200, Minibatch Loss= 2.0691, Training Accuracy= 0.312\n",
      "Step 400, Minibatch Loss= 1.8698, Training Accuracy= 0.359\n",
      "Step 600, Minibatch Loss= 1.8506, Training Accuracy= 0.398\n",
      "Step 800, Minibatch Loss= 1.8446, Training Accuracy= 0.383\n",
      "Step 1000, Minibatch Loss= 1.3926, Training Accuracy= 0.633\n",
      "Step 1200, Minibatch Loss= 1.5339, Training Accuracy= 0.453\n",
      "Step 1400, Minibatch Loss= 1.5019, Training Accuracy= 0.516\n",
      "Step 1600, Minibatch Loss= 1.2281, Training Accuracy= 0.664\n",
      "Step 1800, Minibatch Loss= 1.2546, Training Accuracy= 0.656\n",
      "Step 2000, Minibatch Loss= 1.3432, Training Accuracy= 0.531\n",
      "Step 2200, Minibatch Loss= 1.1957, Training Accuracy= 0.656\n",
      "Step 2400, Minibatch Loss= 1.1806, Training Accuracy= 0.664\n",
      "Step 2600, Minibatch Loss= 1.0227, Training Accuracy= 0.688\n",
      "Step 2800, Minibatch Loss= 1.0855, Training Accuracy= 0.695\n",
      "Step 3000, Minibatch Loss= 1.1163, Training Accuracy= 0.664\n",
      "Step 3200, Minibatch Loss= 1.0197, Training Accuracy= 0.664\n",
      "Step 3400, Minibatch Loss= 0.9702, Training Accuracy= 0.680\n",
      "Step 3600, Minibatch Loss= 0.8327, Training Accuracy= 0.719\n",
      "Step 3800, Minibatch Loss= 0.9514, Training Accuracy= 0.680\n",
      "Step 4000, Minibatch Loss= 0.7811, Training Accuracy= 0.789\n",
      "Step 4200, Minibatch Loss= 0.6754, Training Accuracy= 0.781\n",
      "Step 4400, Minibatch Loss= 0.8127, Training Accuracy= 0.797\n",
      "Step 4600, Minibatch Loss= 0.8844, Training Accuracy= 0.695\n",
      "Step 4800, Minibatch Loss= 0.9281, Training Accuracy= 0.719\n",
      "Step 5000, Minibatch Loss= 0.7402, Training Accuracy= 0.742\n",
      "Step 5200, Minibatch Loss= 0.6379, Training Accuracy= 0.789\n",
      "Step 5400, Minibatch Loss= 0.7963, Training Accuracy= 0.742\n",
      "Step 5600, Minibatch Loss= 0.7017, Training Accuracy= 0.797\n",
      "Step 5800, Minibatch Loss= 0.6677, Training Accuracy= 0.805\n",
      "Step 6000, Minibatch Loss= 0.7349, Training Accuracy= 0.766\n",
      "Step 6200, Minibatch Loss= 0.8167, Training Accuracy= 0.766\n",
      "Step 6400, Minibatch Loss= 0.7221, Training Accuracy= 0.758\n",
      "Step 6600, Minibatch Loss= 0.6160, Training Accuracy= 0.781\n",
      "Step 6800, Minibatch Loss= 0.5646, Training Accuracy= 0.805\n",
      "Step 7000, Minibatch Loss= 0.5692, Training Accuracy= 0.797\n",
      "Step 7200, Minibatch Loss= 0.5639, Training Accuracy= 0.797\n",
      "Step 7400, Minibatch Loss= 0.4810, Training Accuracy= 0.852\n",
      "Step 7600, Minibatch Loss= 0.5630, Training Accuracy= 0.812\n",
      "Step 7800, Minibatch Loss= 0.5838, Training Accuracy= 0.828\n",
      "Step 8000, Minibatch Loss= 0.4374, Training Accuracy= 0.859\n",
      "Step 8200, Minibatch Loss= 0.5164, Training Accuracy= 0.828\n",
      "Step 8400, Minibatch Loss= 0.5182, Training Accuracy= 0.836\n",
      "Step 8600, Minibatch Loss= 0.4171, Training Accuracy= 0.852\n",
      "Step 8800, Minibatch Loss= 0.7241, Training Accuracy= 0.766\n",
      "Step 9000, Minibatch Loss= 0.4389, Training Accuracy= 0.875\n",
      "Step 9200, Minibatch Loss= 0.3881, Training Accuracy= 0.875\n",
      "Step 9400, Minibatch Loss= 0.5774, Training Accuracy= 0.805\n",
      "Step 9600, Minibatch Loss= 0.5000, Training Accuracy= 0.852\n",
      "Step 9800, Minibatch Loss= 0.4593, Training Accuracy= 0.867\n",
      "Step 10000, Minibatch Loss= 0.4462, Training Accuracy= 0.867\n",
      "Optimization Finished!\n",
      "Testing Accuracy: 0.8984375\n"
     ]
    }
   ],
   "source": [
    "with tf.Session() as sess:\n",
    "    sess.run(init)\n",
    "    \n",
    "    for step in range(1, training_steps+1):\n",
    "        batch_x, batch_y = mnist.train.next_batch(batch_size)\n",
    "        \n",
    "        batch_x = batch_x.reshape((batch_size, timesteps, num_input))\n",
    "        \n",
    "        sess.run(train_op, feed_dict={X: batch_x, Y: batch_y})\n",
    "        if step % display_step == 0 or step == 1:\n",
    "            loss, acc = sess.run([loss_op, accuracy], feed_dict={X: batch_x, \n",
    "                                                                Y: batch_y})\n",
    "            print(\"Step \" + str(step) + \", Minibatch Loss= \" + \\\n",
    "                 \"{:.4f}\".format(loss) + \", Training Accuracy= \" + \\\n",
    "                 \"{:.3f}\".format(acc))\n",
    "            \n",
    "    print(\"Optimization Finished!\")\n",
    "    \n",
    "    test_len = 128\n",
    "    test_data = mnist.test.images[:test_len].reshape((-1, timesteps, num_input))\n",
    "    test_label = mnist.test.labels[:test_len]\n",
    "    print(\"Testing Accuracy:\", \\\n",
    "         sess.run(accuracy, feed_dict={X: test_data, Y: test_label}))"
   ]
  },
  {
   "cell_type": "code",
   "execution_count": null,
   "metadata": {},
   "outputs": [],
   "source": []
  }
 ],
 "metadata": {
  "kernelspec": {
   "display_name": "Python 3",
   "language": "python",
   "name": "python3"
  },
  "language_info": {
   "codemirror_mode": {
    "name": "ipython",
    "version": 3
   },
   "file_extension": ".py",
   "mimetype": "text/x-python",
   "name": "python",
   "nbconvert_exporter": "python",
   "pygments_lexer": "ipython3",
   "version": "3.6.7"
  }
 },
 "nbformat": 4,
 "nbformat_minor": 2
}
