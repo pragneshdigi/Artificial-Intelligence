{
 "cells": [
  {
   "cell_type": "code",
   "execution_count": 1,
   "metadata": {},
   "outputs": [],
   "source": [
    "import numpy as np\n",
    "import pandas as pd\n",
    "from sklearn.model_selection import train_test_split\n",
    "from sklearn.linear_model import LogisticRegression\n",
    "from sklearn.metrics import confusion_matrix, classification_report\n",
    "from statistics import mode\n",
    "import re\n",
    "from xgboost import XGBClassifier"
   ]
  },
  {
   "cell_type": "code",
   "execution_count": 2,
   "metadata": {},
   "outputs": [],
   "source": [
    "df = pd.read_csv('h1b_kaggle.csv')"
   ]
  },
  {
   "cell_type": "code",
   "execution_count": 3,
   "metadata": {},
   "outputs": [
    {
     "name": "stdout",
     "output_type": "stream",
     "text": [
      "<class 'pandas.core.frame.DataFrame'>\n",
      "RangeIndex: 1048575 entries, 0 to 1048574\n",
      "Data columns (total 11 columns):\n",
      "CASE_ID               1048575 non-null int64\n",
      "CASE_STATUS           1048575 non-null object\n",
      "EMPLOYER_NAME         1048556 non-null object\n",
      "SOC_NAME              1048564 non-null object\n",
      "JOB_TITLE             1048567 non-null object\n",
      "FULL_TIME_POSITION    1048574 non-null object\n",
      "PREVAILING_WAGE       1048571 non-null float64\n",
      "YEAR                  1048575 non-null int64\n",
      "WORKSITE              1048575 non-null object\n",
      "lon                   1019007 non-null float64\n",
      "lat                   1019007 non-null float64\n",
      "dtypes: float64(3), int64(2), object(6)\n",
      "memory usage: 88.0+ MB\n"
     ]
    },
    {
     "data": {
      "text/html": [
       "<div>\n",
       "<style scoped>\n",
       "    .dataframe tbody tr th:only-of-type {\n",
       "        vertical-align: middle;\n",
       "    }\n",
       "\n",
       "    .dataframe tbody tr th {\n",
       "        vertical-align: top;\n",
       "    }\n",
       "\n",
       "    .dataframe thead th {\n",
       "        text-align: right;\n",
       "    }\n",
       "</style>\n",
       "<table border=\"1\" class=\"dataframe\">\n",
       "  <thead>\n",
       "    <tr style=\"text-align: right;\">\n",
       "      <th></th>\n",
       "      <th>CASE_ID</th>\n",
       "      <th>PREVAILING_WAGE</th>\n",
       "      <th>YEAR</th>\n",
       "      <th>lon</th>\n",
       "      <th>lat</th>\n",
       "    </tr>\n",
       "  </thead>\n",
       "  <tbody>\n",
       "    <tr>\n",
       "      <th>count</th>\n",
       "      <td>1.048575e+06</td>\n",
       "      <td>1.048571e+06</td>\n",
       "      <td>1.048575e+06</td>\n",
       "      <td>1.019007e+06</td>\n",
       "      <td>1.019007e+06</td>\n",
       "    </tr>\n",
       "    <tr>\n",
       "      <th>mean</th>\n",
       "      <td>5.242880e+05</td>\n",
       "      <td>8.942724e+04</td>\n",
       "      <td>2.015618e+03</td>\n",
       "      <td>-9.224186e+01</td>\n",
       "      <td>3.816965e+01</td>\n",
       "    </tr>\n",
       "    <tr>\n",
       "      <th>std</th>\n",
       "      <td>3.026977e+05</td>\n",
       "      <td>1.643214e+06</td>\n",
       "      <td>4.859268e-01</td>\n",
       "      <td>1.936639e+01</td>\n",
       "      <td>4.606127e+00</td>\n",
       "    </tr>\n",
       "    <tr>\n",
       "      <th>min</th>\n",
       "      <td>1.000000e+00</td>\n",
       "      <td>0.000000e+00</td>\n",
       "      <td>2.015000e+03</td>\n",
       "      <td>-1.578583e+02</td>\n",
       "      <td>1.343719e+01</td>\n",
       "    </tr>\n",
       "    <tr>\n",
       "      <th>25%</th>\n",
       "      <td>2.621445e+05</td>\n",
       "      <td>5.636800e+04</td>\n",
       "      <td>2.015000e+03</td>\n",
       "      <td>-1.118910e+02</td>\n",
       "      <td>3.415175e+01</td>\n",
       "    </tr>\n",
       "    <tr>\n",
       "      <th>50%</th>\n",
       "      <td>5.242880e+05</td>\n",
       "      <td>6.651800e+04</td>\n",
       "      <td>2.016000e+03</td>\n",
       "      <td>-8.648955e+01</td>\n",
       "      <td>3.908400e+01</td>\n",
       "    </tr>\n",
       "    <tr>\n",
       "      <th>75%</th>\n",
       "      <td>7.864315e+05</td>\n",
       "      <td>8.247200e+04</td>\n",
       "      <td>2.016000e+03</td>\n",
       "      <td>-7.559826e+01</td>\n",
       "      <td>4.088374e+01</td>\n",
       "    </tr>\n",
       "    <tr>\n",
       "      <th>max</th>\n",
       "      <td>1.048575e+06</td>\n",
       "      <td>3.291392e+08</td>\n",
       "      <td>2.016000e+03</td>\n",
       "      <td>1.457298e+02</td>\n",
       "      <td>6.483778e+01</td>\n",
       "    </tr>\n",
       "  </tbody>\n",
       "</table>\n",
       "</div>"
      ],
      "text/plain": [
       "            CASE_ID  PREVAILING_WAGE          YEAR           lon           lat\n",
       "count  1.048575e+06     1.048571e+06  1.048575e+06  1.019007e+06  1.019007e+06\n",
       "mean   5.242880e+05     8.942724e+04  2.015618e+03 -9.224186e+01  3.816965e+01\n",
       "std    3.026977e+05     1.643214e+06  4.859268e-01  1.936639e+01  4.606127e+00\n",
       "min    1.000000e+00     0.000000e+00  2.015000e+03 -1.578583e+02  1.343719e+01\n",
       "25%    2.621445e+05     5.636800e+04  2.015000e+03 -1.118910e+02  3.415175e+01\n",
       "50%    5.242880e+05     6.651800e+04  2.016000e+03 -8.648955e+01  3.908400e+01\n",
       "75%    7.864315e+05     8.247200e+04  2.016000e+03 -7.559826e+01  4.088374e+01\n",
       "max    1.048575e+06     3.291392e+08  2.016000e+03  1.457298e+02  6.483778e+01"
      ]
     },
     "execution_count": 3,
     "metadata": {},
     "output_type": "execute_result"
    }
   ],
   "source": [
    "df.info()\n",
    "df.head()\n",
    "df.describe()"
   ]
  },
  {
   "cell_type": "code",
   "execution_count": 4,
   "metadata": {},
   "outputs": [
    {
     "data": {
      "text/html": [
       "<div>\n",
       "<style scoped>\n",
       "    .dataframe tbody tr th:only-of-type {\n",
       "        vertical-align: middle;\n",
       "    }\n",
       "\n",
       "    .dataframe tbody tr th {\n",
       "        vertical-align: top;\n",
       "    }\n",
       "\n",
       "    .dataframe thead th {\n",
       "        text-align: right;\n",
       "    }\n",
       "</style>\n",
       "<table border=\"1\" class=\"dataframe\">\n",
       "  <thead>\n",
       "    <tr style=\"text-align: right;\">\n",
       "      <th></th>\n",
       "      <th>CASE_ID</th>\n",
       "      <th>CASE_STATUS</th>\n",
       "      <th>EMPLOYER_NAME</th>\n",
       "      <th>SOC_NAME</th>\n",
       "      <th>JOB_TITLE</th>\n",
       "      <th>FULL_TIME_POSITION</th>\n",
       "      <th>PREVAILING_WAGE</th>\n",
       "      <th>YEAR</th>\n",
       "      <th>WORKSITE</th>\n",
       "      <th>lon</th>\n",
       "      <th>lat</th>\n",
       "    </tr>\n",
       "  </thead>\n",
       "  <tbody>\n",
       "    <tr>\n",
       "      <th>0</th>\n",
       "      <td>1</td>\n",
       "      <td>CERTIFIED-WITHDRAWN</td>\n",
       "      <td>UNIVERSITY OF MICHIGAN</td>\n",
       "      <td>BIOCHEMISTS AND BIOPHYSICISTS</td>\n",
       "      <td>POSTDOCTORAL RESEARCH FELLOW</td>\n",
       "      <td>N</td>\n",
       "      <td>36067.0</td>\n",
       "      <td>2016</td>\n",
       "      <td>ANN ARBOR, MICHIGAN</td>\n",
       "      <td>-83.743038</td>\n",
       "      <td>42.280826</td>\n",
       "    </tr>\n",
       "    <tr>\n",
       "      <th>1</th>\n",
       "      <td>2</td>\n",
       "      <td>CERTIFIED-WITHDRAWN</td>\n",
       "      <td>GOODMAN NETWORKS, INC.</td>\n",
       "      <td>CHIEF EXECUTIVES</td>\n",
       "      <td>CHIEF OPERATING OFFICER</td>\n",
       "      <td>Y</td>\n",
       "      <td>242674.0</td>\n",
       "      <td>2016</td>\n",
       "      <td>PLANO, TEXAS</td>\n",
       "      <td>-96.698886</td>\n",
       "      <td>33.019843</td>\n",
       "    </tr>\n",
       "    <tr>\n",
       "      <th>2</th>\n",
       "      <td>3</td>\n",
       "      <td>CERTIFIED-WITHDRAWN</td>\n",
       "      <td>PORTS AMERICA GROUP, INC.</td>\n",
       "      <td>CHIEF EXECUTIVES</td>\n",
       "      <td>CHIEF PROCESS OFFICER</td>\n",
       "      <td>Y</td>\n",
       "      <td>193066.0</td>\n",
       "      <td>2016</td>\n",
       "      <td>JERSEY CITY, NEW JERSEY</td>\n",
       "      <td>-74.077642</td>\n",
       "      <td>40.728158</td>\n",
       "    </tr>\n",
       "    <tr>\n",
       "      <th>3</th>\n",
       "      <td>4</td>\n",
       "      <td>CERTIFIED-WITHDRAWN</td>\n",
       "      <td>GATES CORPORATION, A WHOLLY-OWNED SUBSIDIARY O...</td>\n",
       "      <td>CHIEF EXECUTIVES</td>\n",
       "      <td>REGIONAL PRESIDEN, AMERICAS</td>\n",
       "      <td>Y</td>\n",
       "      <td>220314.0</td>\n",
       "      <td>2016</td>\n",
       "      <td>DENVER, COLORADO</td>\n",
       "      <td>-104.990251</td>\n",
       "      <td>39.739236</td>\n",
       "    </tr>\n",
       "    <tr>\n",
       "      <th>4</th>\n",
       "      <td>5</td>\n",
       "      <td>WITHDRAWN</td>\n",
       "      <td>PEABODY INVESTMENTS CORP.</td>\n",
       "      <td>CHIEF EXECUTIVES</td>\n",
       "      <td>PRESIDENT MONGOLIA AND INDIA</td>\n",
       "      <td>Y</td>\n",
       "      <td>157518.4</td>\n",
       "      <td>2016</td>\n",
       "      <td>ST. LOUIS, MISSOURI</td>\n",
       "      <td>-90.199404</td>\n",
       "      <td>38.627003</td>\n",
       "    </tr>\n",
       "    <tr>\n",
       "      <th>5</th>\n",
       "      <td>6</td>\n",
       "      <td>CERTIFIED-WITHDRAWN</td>\n",
       "      <td>BURGER KING CORPORATION</td>\n",
       "      <td>CHIEF EXECUTIVES</td>\n",
       "      <td>EXECUTIVE V P, GLOBAL DEVELOPMENT AND PRESIDEN...</td>\n",
       "      <td>Y</td>\n",
       "      <td>225000.0</td>\n",
       "      <td>2016</td>\n",
       "      <td>MIAMI, FLORIDA</td>\n",
       "      <td>-80.191790</td>\n",
       "      <td>25.761680</td>\n",
       "    </tr>\n",
       "    <tr>\n",
       "      <th>6</th>\n",
       "      <td>7</td>\n",
       "      <td>CERTIFIED-WITHDRAWN</td>\n",
       "      <td>BT AND MK ENERGY AND COMMODITIES</td>\n",
       "      <td>CHIEF EXECUTIVES</td>\n",
       "      <td>CHIEF OPERATING OFFICER</td>\n",
       "      <td>Y</td>\n",
       "      <td>91021.0</td>\n",
       "      <td>2016</td>\n",
       "      <td>HOUSTON, TEXAS</td>\n",
       "      <td>-95.369803</td>\n",
       "      <td>29.760427</td>\n",
       "    </tr>\n",
       "    <tr>\n",
       "      <th>7</th>\n",
       "      <td>8</td>\n",
       "      <td>CERTIFIED-WITHDRAWN</td>\n",
       "      <td>GLOBO MOBILE TECHNOLOGIES, INC.</td>\n",
       "      <td>CHIEF EXECUTIVES</td>\n",
       "      <td>CHIEF OPERATIONS OFFICER</td>\n",
       "      <td>Y</td>\n",
       "      <td>150000.0</td>\n",
       "      <td>2016</td>\n",
       "      <td>SAN JOSE, CALIFORNIA</td>\n",
       "      <td>-121.886329</td>\n",
       "      <td>37.338208</td>\n",
       "    </tr>\n",
       "    <tr>\n",
       "      <th>8</th>\n",
       "      <td>9</td>\n",
       "      <td>CERTIFIED-WITHDRAWN</td>\n",
       "      <td>ESI COMPANIES INC.</td>\n",
       "      <td>CHIEF EXECUTIVES</td>\n",
       "      <td>PRESIDENT</td>\n",
       "      <td>Y</td>\n",
       "      <td>127546.0</td>\n",
       "      <td>2016</td>\n",
       "      <td>MEMPHIS, TEXAS</td>\n",
       "      <td>NaN</td>\n",
       "      <td>NaN</td>\n",
       "    </tr>\n",
       "    <tr>\n",
       "      <th>9</th>\n",
       "      <td>10</td>\n",
       "      <td>WITHDRAWN</td>\n",
       "      <td>LESSARD INTERNATIONAL LLC</td>\n",
       "      <td>CHIEF EXECUTIVES</td>\n",
       "      <td>PRESIDENT</td>\n",
       "      <td>Y</td>\n",
       "      <td>154648.0</td>\n",
       "      <td>2016</td>\n",
       "      <td>VIENNA, VIRGINIA</td>\n",
       "      <td>-77.265260</td>\n",
       "      <td>38.901222</td>\n",
       "    </tr>\n",
       "  </tbody>\n",
       "</table>\n",
       "</div>"
      ],
      "text/plain": [
       "   CASE_ID          CASE_STATUS  \\\n",
       "0        1  CERTIFIED-WITHDRAWN   \n",
       "1        2  CERTIFIED-WITHDRAWN   \n",
       "2        3  CERTIFIED-WITHDRAWN   \n",
       "3        4  CERTIFIED-WITHDRAWN   \n",
       "4        5            WITHDRAWN   \n",
       "5        6  CERTIFIED-WITHDRAWN   \n",
       "6        7  CERTIFIED-WITHDRAWN   \n",
       "7        8  CERTIFIED-WITHDRAWN   \n",
       "8        9  CERTIFIED-WITHDRAWN   \n",
       "9       10            WITHDRAWN   \n",
       "\n",
       "                                       EMPLOYER_NAME  \\\n",
       "0                             UNIVERSITY OF MICHIGAN   \n",
       "1                             GOODMAN NETWORKS, INC.   \n",
       "2                          PORTS AMERICA GROUP, INC.   \n",
       "3  GATES CORPORATION, A WHOLLY-OWNED SUBSIDIARY O...   \n",
       "4                          PEABODY INVESTMENTS CORP.   \n",
       "5                            BURGER KING CORPORATION   \n",
       "6                   BT AND MK ENERGY AND COMMODITIES   \n",
       "7                    GLOBO MOBILE TECHNOLOGIES, INC.   \n",
       "8                                 ESI COMPANIES INC.   \n",
       "9                          LESSARD INTERNATIONAL LLC   \n",
       "\n",
       "                        SOC_NAME  \\\n",
       "0  BIOCHEMISTS AND BIOPHYSICISTS   \n",
       "1               CHIEF EXECUTIVES   \n",
       "2               CHIEF EXECUTIVES   \n",
       "3               CHIEF EXECUTIVES   \n",
       "4               CHIEF EXECUTIVES   \n",
       "5               CHIEF EXECUTIVES   \n",
       "6               CHIEF EXECUTIVES   \n",
       "7               CHIEF EXECUTIVES   \n",
       "8               CHIEF EXECUTIVES   \n",
       "9               CHIEF EXECUTIVES   \n",
       "\n",
       "                                           JOB_TITLE FULL_TIME_POSITION  \\\n",
       "0                       POSTDOCTORAL RESEARCH FELLOW                  N   \n",
       "1                            CHIEF OPERATING OFFICER                  Y   \n",
       "2                              CHIEF PROCESS OFFICER                  Y   \n",
       "3                        REGIONAL PRESIDEN, AMERICAS                  Y   \n",
       "4                       PRESIDENT MONGOLIA AND INDIA                  Y   \n",
       "5  EXECUTIVE V P, GLOBAL DEVELOPMENT AND PRESIDEN...                  Y   \n",
       "6                            CHIEF OPERATING OFFICER                  Y   \n",
       "7                           CHIEF OPERATIONS OFFICER                  Y   \n",
       "8                                          PRESIDENT                  Y   \n",
       "9                                          PRESIDENT                  Y   \n",
       "\n",
       "   PREVAILING_WAGE  YEAR                 WORKSITE         lon        lat  \n",
       "0          36067.0  2016      ANN ARBOR, MICHIGAN  -83.743038  42.280826  \n",
       "1         242674.0  2016             PLANO, TEXAS  -96.698886  33.019843  \n",
       "2         193066.0  2016  JERSEY CITY, NEW JERSEY  -74.077642  40.728158  \n",
       "3         220314.0  2016         DENVER, COLORADO -104.990251  39.739236  \n",
       "4         157518.4  2016      ST. LOUIS, MISSOURI  -90.199404  38.627003  \n",
       "5         225000.0  2016           MIAMI, FLORIDA  -80.191790  25.761680  \n",
       "6          91021.0  2016           HOUSTON, TEXAS  -95.369803  29.760427  \n",
       "7         150000.0  2016     SAN JOSE, CALIFORNIA -121.886329  37.338208  \n",
       "8         127546.0  2016           MEMPHIS, TEXAS         NaN        NaN  \n",
       "9         154648.0  2016         VIENNA, VIRGINIA  -77.265260  38.901222  "
      ]
     },
     "execution_count": 4,
     "metadata": {},
     "output_type": "execute_result"
    }
   ],
   "source": [
    "df['CASE_STATUS'].unique()\n",
    "df.head(10)"
   ]
  },
  {
   "cell_type": "code",
   "execution_count": 5,
   "metadata": {},
   "outputs": [],
   "source": [
    "import warnings\n",
    "warnings.filterwarnings(\"ignore\")\n",
    "df.CASE_STATUS[df['CASE_STATUS']=='REJECTED'] = 'DENIED'\n",
    "df.CASE_STATUS[df['CASE_STATUS']=='INVALIDATED'] = 'DENIED'\n",
    "df.CASE_STATUS[df['CASE_STATUS']=='PENDING QUALITY AND COMPLIANCE REVIEW - UNASSIGNED'] = 'DENIED'\n",
    "df.CASE_STATUS[df['CASE_STATUS']=='CERTIFIED-WITHDRAWN'] = 'CERTIFIED'"
   ]
  },
  {
   "cell_type": "code",
   "execution_count": 6,
   "metadata": {},
   "outputs": [
    {
     "name": "stdout",
     "output_type": "stream",
     "text": [
      "CERTIFIED    997411\n",
      "DENIED        15670\n",
      "Name: CASE_STATUS, dtype: int64\n"
     ]
    }
   ],
   "source": [
    "##Drop rows with withdrawn\n",
    "df.EMPLOYER_NAME.describe()\n",
    "df = df.drop(df[df.CASE_STATUS == 'WITHDRAWN'].index)\n",
    "\n",
    "## Storing non null in df w.r.t. case status\n",
    "df = df[df['CASE_STATUS'].notnull()]\n",
    "print(df['CASE_STATUS'].value_counts())"
   ]
  },
  {
   "cell_type": "code",
   "execution_count": 7,
   "metadata": {},
   "outputs": [
    {
     "name": "stdout",
     "output_type": "stream",
     "text": [
      "0.03231941687177377\n"
     ]
    }
   ],
   "source": [
    "print(70606/(70606+2114025))"
   ]
  },
  {
   "cell_type": "code",
   "execution_count": 8,
   "metadata": {},
   "outputs": [
    {
     "name": "stdout",
     "output_type": "stream",
     "text": [
      "CASE_ID                   0\n",
      "CASE_STATUS               0\n",
      "EMPLOYER_NAME            12\n",
      "SOC_NAME                  6\n",
      "JOB_TITLE                 3\n",
      "FULL_TIME_POSITION        1\n",
      "PREVAILING_WAGE           3\n",
      "YEAR                      0\n",
      "WORKSITE                  0\n",
      "lon                   28104\n",
      "lat                   28104\n",
      "dtype: int64\n"
     ]
    }
   ],
   "source": [
    "##check count of NAN\n",
    "count_nan = len(df) - df.count()\n",
    "print(count_nan)"
   ]
  },
  {
   "cell_type": "code",
   "execution_count": 9,
   "metadata": {},
   "outputs": [],
   "source": [
    "## Filling na in employer name with mode\n",
    "df['EMPLOYER_NAME'] = df['EMPLOYER_NAME'].fillna(df['EMPLOYER_NAME'].mode()[0])"
   ]
  },
  {
   "cell_type": "code",
   "execution_count": 10,
   "metadata": {},
   "outputs": [],
   "source": [
    "assert pd.notnull(df['EMPLOYER_NAME']).all().all()"
   ]
  },
  {
   "cell_type": "code",
   "execution_count": 11,
   "metadata": {},
   "outputs": [
    {
     "name": "stdout",
     "output_type": "stream",
     "text": [
      "138757.0\n"
     ]
    },
    {
     "data": {
      "text/plain": [
       "66518.0"
      ]
     },
     "execution_count": 11,
     "metadata": {},
     "output_type": "execute_result"
    }
   ],
   "source": [
    "##to check the percentile in wages\n",
    "print(np.nanpercentile(df.PREVAILING_WAGE,98))\n",
    "df.PREVAILING_WAGE.median()"
   ]
  },
  {
   "cell_type": "code",
   "execution_count": 12,
   "metadata": {},
   "outputs": [],
   "source": [
    "## replacing min and max with 2 and 98 percentile\n",
    "df.loc[df.PREVAILING_WAGE < 34029, 'PREVAILING_WAGE'] = 34029\n",
    "df.loc[df['PREVAILING_WAGE'] > 138703, 'PREVAILING_WAGE'] = 138703\n",
    "df.PREVAILING_WAGE.fillna(df.PREVAILING_WAGE.mean(), inplace = True)"
   ]
  },
  {
   "cell_type": "code",
   "execution_count": 13,
   "metadata": {},
   "outputs": [],
   "source": [
    "## Filling na in JOB_TITLE and FULL_TIME_POSITION with mode\n",
    "df['JOB_TITLE'] = df['JOB_TITLE'].fillna(df['JOB_TITLE'].mode()[0])\n",
    "df['FULL_TIME_POSITION'] = df['FULL_TIME_POSITION'].fillna(df['FULL_TIME_POSITION'].mode()[0])\n",
    "df['SOC_NAME'] = df['SOC_NAME'].fillna(df['SOC_NAME'].mode()[0])"
   ]
  },
  {
   "cell_type": "code",
   "execution_count": 14,
   "metadata": {},
   "outputs": [
    {
     "name": "stdout",
     "output_type": "stream",
     "text": [
      "0.655259549828691\n",
      "0.655259549828691\n"
     ]
    }
   ],
   "source": [
    "foo1 = df['FULL_TIME_POSITION']=='Y'\n",
    "foo2 = df['CASE_STATUS']=='CERIFIED'\n",
    "print(len(df[foo1])/len(df))\n",
    "\n",
    "fooy = df.FULL_TIME_POSITION[df['FULL_TIME_POSITION']=='Y'].count()\n",
    "foox = df.CASE_STATUS[df['CASE_STATUS']=='CERTIFIED'].count()\n",
    "print(fooy/df.FULL_TIME_POSITION.count())"
   ]
  },
  {
   "cell_type": "code",
   "execution_count": 15,
   "metadata": {},
   "outputs": [],
   "source": [
    "# Dropping lat and lon columns\n",
    "df = df.drop('lat', axis = 1)\n",
    "df = df.drop('lon', axis = 1)\n"
   ]
  },
  {
   "cell_type": "code",
   "execution_count": 16,
   "metadata": {},
   "outputs": [
    {
     "data": {
      "text/plain": [
       "(1013081, 10)"
      ]
     },
     "execution_count": 16,
     "metadata": {},
     "output_type": "execute_result"
    }
   ],
   "source": [
    "df['NEW_EMPLOYER'] = np.nan\n",
    "df.shape"
   ]
  },
  {
   "cell_type": "code",
   "execution_count": 17,
   "metadata": {},
   "outputs": [],
   "source": [
    "warnings.filterwarnings(\"ignore\")\n",
    "\n",
    "df['EMPLOYER_NAME'] = df['EMPLOYER_NAME'].str.lower()\n",
    "df.NEW_EMPLOYER[df['EMPLOYER_NAME'].str.contains('university')] = 'university'\n",
    "df['NEW_EMPLOYER'] = df.NEW_EMPLOYER.replace(np.nan, 'non university', regex=True)"
   ]
  },
  {
   "cell_type": "code",
   "execution_count": 18,
   "metadata": {},
   "outputs": [],
   "source": [
    "# Creating occupation and mapping the values\n",
    "warnings.filterwarnings(\"ignore\")\n",
    "\n",
    "df['OCCUPATION'] = np.nan\n",
    "df['SOC_NAME'] = df['SOC_NAME'].str.lower()\n",
    "df.OCCUPATION[df['SOC_NAME'].str.contains('computer','programmer')] = 'computer occupations'\n",
    "df.OCCUPATION[df['SOC_NAME'].str.contains('software','web developer')] = 'computer occupations'\n",
    "df.OCCUPATION[df['SOC_NAME'].str.contains('database')] = 'computer occupations'\n",
    "df.OCCUPATION[df['SOC_NAME'].str.contains('math','statistic')] = 'Mathematical Occupations'\n",
    "df.OCCUPATION[df['SOC_NAME'].str.contains('predictive model','stats')] = 'Mathematical Occupations'\n",
    "df.OCCUPATION[df['SOC_NAME'].str.contains('teacher','linguist')] = 'Education Occupations'\n",
    "df.OCCUPATION[df['SOC_NAME'].str.contains('professor','Teach')] = 'Education Occupations'\n",
    "df.OCCUPATION[df['SOC_NAME'].str.contains('school principal')] = 'Education Occupations'\n",
    "df.OCCUPATION[df['SOC_NAME'].str.contains('medical','doctor')] = 'Medical Occupations'\n",
    "df.OCCUPATION[df['SOC_NAME'].str.contains('physician','dentist')] = 'Medical Occupations'\n",
    "df.OCCUPATION[df['SOC_NAME'].str.contains('Health','Physical Therapists')] = 'Medical Occupations'\n",
    "df.OCCUPATION[df['SOC_NAME'].str.contains('surgeon','nurse')] = 'Medical Occupations'\n",
    "df.OCCUPATION[df['SOC_NAME'].str.contains('psychiatr')] = 'Medical Occupations'\n",
    "df.OCCUPATION[df['SOC_NAME'].str.contains('chemist','physicist')] = 'Advance Sciences'\n",
    "df.OCCUPATION[df['SOC_NAME'].str.contains('biology','scientist')] = 'Advance Sciences'\n",
    "df.OCCUPATION[df['SOC_NAME'].str.contains('biologi','clinical research')] = 'Advance Sciences'\n",
    "df.OCCUPATION[df['SOC_NAME'].str.contains('public relation','manage')] = 'Management Occupation'\n",
    "df.OCCUPATION[df['SOC_NAME'].str.contains('management','operation')] = 'Management Occupation'\n",
    "df.OCCUPATION[df['SOC_NAME'].str.contains('chief','plan')] = 'Management Occupation'\n",
    "df.OCCUPATION[df['SOC_NAME'].str.contains('executive')] = 'Management Occupation'\n",
    "df.OCCUPATION[df['SOC_NAME'].str.contains('advertis','marketing')] = 'Marketing Occupation'\n",
    "df.OCCUPATION[df['SOC_NAME'].str.contains('promotion','market research')] = 'Marketing Occupation'\n",
    "df.OCCUPATION[df['SOC_NAME'].str.contains('business','business analyst')] = 'Business Occupation'\n",
    "df.OCCUPATION[df['SOC_NAME'].str.contains('business systems analyst')] = 'Business Occupation'\n",
    "df.OCCUPATION[df['SOC_NAME'].str.contains('accountant','finance')] = 'Financial Occupation'\n",
    "df.OCCUPATION[df['SOC_NAME'].str.contains('financial')] = 'Financial Occupation'\n",
    "df.OCCUPATION[df['SOC_NAME'].str.contains('engineer','architect')] = 'Architecture & Engineering'\n",
    "df.OCCUPATION[df['SOC_NAME'].str.contains('surveyor','carto')] = 'Architecture & Engineering'\n",
    "df.OCCUPATION[df['SOC_NAME'].str.contains('technician','drafter')] = 'Architecture & Engineering'\n",
    "df.OCCUPATION[df['SOC_NAME'].str.contains('information security','information tech')] = 'Architecture & Engineering'\n",
    "df['OCCUPATION']= df.OCCUPATION.replace(np.nan, 'Others', regex=True)"
   ]
  },
  {
   "cell_type": "code",
   "execution_count": 19,
   "metadata": {},
   "outputs": [],
   "source": [
    "## Splitting city and state and capturing state in another variable\n",
    "df['state'] = df.WORKSITE.str.split('\\s+').str[-1]"
   ]
  },
  {
   "cell_type": "code",
   "execution_count": 20,
   "metadata": {},
   "outputs": [
    {
     "name": "stdout",
     "output_type": "stream",
     "text": [
      "   CASE_ID CASE_STATUS                                      EMPLOYER_NAME  \\\n",
      "0        1   CERTIFIED                             university of michigan   \n",
      "1        2   CERTIFIED                             goodman networks, inc.   \n",
      "2        3   CERTIFIED                          ports america group, inc.   \n",
      "3        4   CERTIFIED  gates corporation, a wholly-owned subsidiary o...   \n",
      "5        6   CERTIFIED                            burger king corporation   \n",
      "\n",
      "                        SOC_NAME  \\\n",
      "0  biochemists and biophysicists   \n",
      "1               chief executives   \n",
      "2               chief executives   \n",
      "3               chief executives   \n",
      "5               chief executives   \n",
      "\n",
      "                                           JOB_TITLE FULL_TIME_POSITION  \\\n",
      "0                       POSTDOCTORAL RESEARCH FELLOW                  N   \n",
      "1                            CHIEF OPERATING OFFICER                  Y   \n",
      "2                              CHIEF PROCESS OFFICER                  Y   \n",
      "3                        REGIONAL PRESIDEN, AMERICAS                  Y   \n",
      "5  EXECUTIVE V P, GLOBAL DEVELOPMENT AND PRESIDEN...                  Y   \n",
      "\n",
      "   PREVAILING_WAGE  YEAR                 WORKSITE    NEW_EMPLOYER  \\\n",
      "0          36067.0  2016      ANN ARBOR, MICHIGAN      university   \n",
      "1         138703.0  2016             PLANO, TEXAS  non university   \n",
      "2         138703.0  2016  JERSEY CITY, NEW JERSEY  non university   \n",
      "3         138703.0  2016         DENVER, COLORADO  non university   \n",
      "5         138703.0  2016           MIAMI, FLORIDA  non university   \n",
      "\n",
      "              OCCUPATION     state  \n",
      "0       Advance Sciences  MICHIGAN  \n",
      "1  Management Occupation     TEXAS  \n",
      "2  Management Occupation    JERSEY  \n",
      "3  Management Occupation  COLORADO  \n",
      "5  Management Occupation   FLORIDA  \n"
     ]
    }
   ],
   "source": [
    "print(df.head())"
   ]
  },
  {
   "cell_type": "code",
   "execution_count": 21,
   "metadata": {},
   "outputs": [],
   "source": [
    "from sklearn import preprocessing\n",
    "class_mapping = {'CERTIFIED':0, 'DENIED':1}\n",
    "df[\"CASE_STATUS\"] = df[\"CASE_STATUS\"].map(class_mapping)"
   ]
  },
  {
   "cell_type": "code",
   "execution_count": 22,
   "metadata": {},
   "outputs": [
    {
     "name": "stdout",
     "output_type": "stream",
     "text": [
      "   CASE_ID  CASE_STATUS                                      EMPLOYER_NAME  \\\n",
      "0        1            0                             university of michigan   \n",
      "1        2            0                             goodman networks, inc.   \n",
      "2        3            0                          ports america group, inc.   \n",
      "3        4            0  gates corporation, a wholly-owned subsidiary o...   \n",
      "5        6            0                            burger king corporation   \n",
      "\n",
      "                        SOC_NAME  \\\n",
      "0  biochemists and biophysicists   \n",
      "1               chief executives   \n",
      "2               chief executives   \n",
      "3               chief executives   \n",
      "5               chief executives   \n",
      "\n",
      "                                           JOB_TITLE FULL_TIME_POSITION  \\\n",
      "0                       POSTDOCTORAL RESEARCH FELLOW                  N   \n",
      "1                            CHIEF OPERATING OFFICER                  Y   \n",
      "2                              CHIEF PROCESS OFFICER                  Y   \n",
      "3                        REGIONAL PRESIDEN, AMERICAS                  Y   \n",
      "5  EXECUTIVE V P, GLOBAL DEVELOPMENT AND PRESIDEN...                  Y   \n",
      "\n",
      "   PREVAILING_WAGE  YEAR                 WORKSITE    NEW_EMPLOYER  \\\n",
      "0          36067.0  2016      ANN ARBOR, MICHIGAN      university   \n",
      "1         138703.0  2016             PLANO, TEXAS  non university   \n",
      "2         138703.0  2016  JERSEY CITY, NEW JERSEY  non university   \n",
      "3         138703.0  2016         DENVER, COLORADO  non university   \n",
      "5         138703.0  2016           MIAMI, FLORIDA  non university   \n",
      "\n",
      "              OCCUPATION     state  \n",
      "0       Advance Sciences  MICHIGAN  \n",
      "1  Management Occupation     TEXAS  \n",
      "2  Management Occupation    JERSEY  \n",
      "3  Management Occupation  COLORADO  \n",
      "5  Management Occupation   FLORIDA  \n"
     ]
    }
   ],
   "source": [
    "print(df.head())"
   ]
  },
  {
   "cell_type": "code",
   "execution_count": 23,
   "metadata": {},
   "outputs": [
    {
     "name": "stdout",
     "output_type": "stream",
     "text": [
      "                                                        0\n",
      "0                            POSTDOCTORAL RESEARCH FELLOW\n",
      "1                                 CHIEF OPERATING OFFICER\n",
      "2                                   CHIEF PROCESS OFFICER\n",
      "3                             REGIONAL PRESIDEN, AMERICAS\n",
      "4       EXECUTIVE V P, GLOBAL DEVELOPMENT AND PRESIDEN...\n",
      "5                                CHIEF OPERATIONS OFFICER\n",
      "6                                               PRESIDENT\n",
      "7          CHIEF INFORMATION OFFICER, HEINZ NORTH AMERICA\n",
      "8        VICE PRESIDENT AND CHIEF HUMAN RESOURCES OFFICER\n",
      "9                                       TREASURER AND COO\n",
      "10                               CHIEF COMMERCIAL OFFICER\n",
      "11                                           BOARD MEMBER\n",
      "12                                CHIEF FINANCIAL OFFICER\n",
      "13                              VICE PRESIDENT OF FINANCE\n",
      "14                            GENERAL MANAGER, OPERATIONS\n",
      "15                                                    CEO\n",
      "16                            PRESIDENT, NORTHEAST REGION\n",
      "17                          CHIEF OPERATING OFFICER (COO)\n",
      "18                                CHIEF EXECUTIVE OFFICER\n",
      "19                                 CHIEF BUSINESS OFFICER\n",
      "20                          VICE PRESIDENT OF ENGINEERING\n",
      "21                                     EXECUTIVE DIRECTOR\n",
      "22                   VICE PRESIDENT, BUSINESS DEVELOPMENT\n",
      "23                                       HEAD OF US SALES\n",
      "24                           VICE PRESIDENT OF OPERATIONS\n",
      "25        VICE PRESIDENT, FINANCE AND OPERATIONS ANALYSIS\n",
      "26                                       ACCOUNT DIRECTOR\n",
      "27                                     TECHNICAL DIRECTOR\n",
      "28                SVP BUSINESS OPERATIONS AND DEVELOPMENT\n",
      "29                                  CHIEF MEDICAL OFFICER\n",
      "...                                                   ...\n",
      "118547                               ASSISTANT JOURNALIST\n",
      "118548                  ACCOUNT MANAGER (TECHNICAL SALES)\n",
      "118549                       SYSTEMS ANALYST (15-1199.02)\n",
      "118550                          PHILOSOPHY FACULTY MEMBER\n",
      "118551                    AVP, IDB-IT, PRODUCTION SUPPORT\n",
      "118552                     INTERNATIONAL CUSTOMER LIAISON\n",
      "118553              IT PRODUCTION SUPPORT ANALYST, SENIOR\n",
      "118554                      BILINGUAL EXECUTIVE ASSISTANT\n",
      "118555                         HDA/CAD OPERATIONS MANAGER\n",
      "118556                                  FISH TECHNOLOGIST\n",
      "118557                                  CROP/SOIL ANALYST\n",
      "118558         DIMENSIONAL ANALYSIS INNOVATION SPECIALIST\n",
      "118559                                      SENIOR LEADER\n",
      "118560                       ASSISTANT PROFESSOR OF PIANO\n",
      "118561                      IT TECHNICAL ANALYST - CAREER\n",
      "118562                   EXECUTIVE SUSHI CHEF & SOMMELIER\n",
      "118563                             PI SCIENTIFIC ENGINEER\n",
      "118564                    DIRECTOR OF CHRISTIAN EDUCATION\n",
      "118565                                OPTICAL ENGINEER II\n",
      "118566     VISITING ASSISTANT PROFESSOR OF GERMAN STUDIES\n",
      "118567                              SR. PRODUCTION ARTIST\n",
      "118568                                   RESIDENT (PGY 2)\n",
      "118569                   ASSOCIATE (QUANTITATIVE ANALYST)\n",
      "118570  GLOBAL ECOMMERCE & DIGITAL WEB MARKETING OPERA...\n",
      "118571             INFECTIOUS DISEASE UNIT LAB TECHNICIAN\n",
      "118572                         SENIOR LECTURER OF SPANISH\n",
      "118573                               HIX BUSINESS ANALYST\n",
      "118574                             DENTAL CLINICAL FELLOW\n",
      "118575                         BIOINFORMATICS ENGINEER IV\n",
      "118576                          CLIENT SERVICES EXECUTIVE\n",
      "\n",
      "[118577 rows x 1 columns]\n"
     ]
    }
   ],
   "source": [
    "test1 = pd.Series(df['JOB_TITLE'].ravel()).unique()\n",
    "print(pd.DataFrame(test1))"
   ]
  },
  {
   "cell_type": "code",
   "execution_count": 25,
   "metadata": {},
   "outputs": [],
   "source": [
    "# dropping these columns\n",
    "df = df.drop('EMPLOYER_NAME', axis = 1)\n",
    "df = df.drop('SOC_NAME', axis = 1)\n",
    "df = df.drop('JOB_TITLE', axis = 1)\n",
    "df = df.drop('WORKSITE', axis = 1)\n",
    "df = df.drop('CASE_ID', axis = 1)"
   ]
  },
  {
   "cell_type": "code",
   "execution_count": 26,
   "metadata": {},
   "outputs": [],
   "source": [
    "df1 = df.copy()"
   ]
  },
  {
   "cell_type": "code",
   "execution_count": 27,
   "metadata": {},
   "outputs": [
    {
     "name": "stdout",
     "output_type": "stream",
     "text": [
      "<class 'pandas.core.frame.DataFrame'>\n",
      "Int64Index: 1013081 entries, 0 to 1048574\n",
      "Data columns (total 7 columns):\n",
      "CASE_STATUS           1013081 non-null category\n",
      "FULL_TIME_POSITION    1013081 non-null category\n",
      "PREVAILING_WAGE       1013081 non-null float64\n",
      "YEAR                  1013081 non-null category\n",
      "NEW_EMPLOYER          1013081 non-null category\n",
      "OCCUPATION            1013081 non-null category\n",
      "state                 1013081 non-null category\n",
      "dtypes: category(6), float64(1)\n",
      "memory usage: 21.3 MB\n"
     ]
    }
   ],
   "source": [
    "df1[['CASE_STATUS', 'FULL_TIME_POSITION', 'YEAR','NEW_EMPLOYER','OCCUPATION','state']] = df1[['CASE_STATUS', 'FULL_TIME_POSITION', 'YEAR','NEW_EMPLOYER','OCCUPATION','state']].apply(lambda x: x.astype('category'))\n",
    "\n",
    "df1.info()"
   ]
  },
  {
   "cell_type": "code",
   "execution_count": 28,
   "metadata": {},
   "outputs": [
    {
     "data": {
      "text/plain": [
       "Index(['FULL_TIME_POSITION', 'PREVAILING_WAGE', 'YEAR', 'NEW_EMPLOYER',\n",
       "       'OCCUPATION', 'state'],\n",
       "      dtype='object')"
      ]
     },
     "execution_count": 28,
     "metadata": {},
     "output_type": "execute_result"
    }
   ],
   "source": [
    "X = df.drop('CASE_STATUS', axis=1)\n",
    "y = df.CASE_STATUS\n",
    "\n",
    "seed = 7\n",
    "test_size = 0.40\n",
    "\n",
    "X_train, X_test, y_train, y_test = train_test_split(X, y, test_size=test_size, random_state=seed)\n",
    "X_train.columns"
   ]
  },
  {
   "cell_type": "code",
   "execution_count": 29,
   "metadata": {},
   "outputs": [
    {
     "name": "stdout",
     "output_type": "stream",
     "text": [
      "FULL_TIME_POSITION    0\n",
      "PREVAILING_WAGE       0\n",
      "YEAR                  0\n",
      "NEW_EMPLOYER          0\n",
      "OCCUPATION            0\n",
      "state                 0\n",
      "dtype: int64\n"
     ]
    }
   ],
   "source": [
    "print(X_train.isnull().sum())"
   ]
  },
  {
   "cell_type": "code",
   "execution_count": 30,
   "metadata": {},
   "outputs": [],
   "source": [
    "X_train_encode = pd.get_dummies(X_train)\n",
    "X_test_encode = pd.get_dummies(X_test)"
   ]
  },
  {
   "cell_type": "code",
   "execution_count": 31,
   "metadata": {},
   "outputs": [
    {
     "data": {
      "text/plain": [
       "744908    0\n",
       "188172    0\n",
       "230893    0\n",
       "287459    0\n",
       "66909     0\n",
       "Name: CASE_STATUS, dtype: int64"
      ]
     },
     "execution_count": 31,
     "metadata": {},
     "output_type": "execute_result"
    }
   ],
   "source": [
    "y_train.head()"
   ]
  },
  {
   "cell_type": "code",
   "execution_count": 32,
   "metadata": {},
   "outputs": [],
   "source": [
    "train_X = X_train_encode.as_matrix()\n",
    "train_y = y_train.as_matrix()"
   ]
  },
  {
   "cell_type": "code",
   "execution_count": 33,
   "metadata": {},
   "outputs": [],
   "source": [
    "import xgboost\n",
    "gbm = xgboost.XGBClassifier(max_features='sqrt', subsample=0.8, random_state=10)"
   ]
  },
  {
   "cell_type": "code",
   "execution_count": 34,
   "metadata": {},
   "outputs": [],
   "source": [
    "from sklearn.model_selection import GridSearchCV"
   ]
  },
  {
   "cell_type": "code",
   "execution_count": 35,
   "metadata": {},
   "outputs": [],
   "source": [
    "parameters = [{'n_estimators': [10,100]},\n",
    "              {'learning_rate': [0.1, 0.01, 0.5]}]"
   ]
  },
  {
   "cell_type": "code",
   "execution_count": 36,
   "metadata": {},
   "outputs": [],
   "source": [
    "grid_search = GridSearchCV(estimator = gbm, param_grid = parameters, scoring='accuracy', cv = 3, n_jobs=-1)"
   ]
  },
  {
   "cell_type": "code",
   "execution_count": 37,
   "metadata": {},
   "outputs": [],
   "source": [
    "grid_search = grid_search.fit(train_X, train_y)"
   ]
  },
  {
   "cell_type": "code",
   "execution_count": 46,
   "metadata": {},
   "outputs": [
    {
     "data": {
      "text/plain": [
       "({'n_estimators': 10}, 0.98460634895566)"
      ]
     },
     "execution_count": 46,
     "metadata": {},
     "output_type": "execute_result"
    }
   ],
   "source": [
    "warnings.filterwarnings(\"ignore\")\n",
    "\n",
    "#grid_search.grid_scores_, \n",
    "grid_search.best_params_, grid_search.best_score_"
   ]
  },
  {
   "cell_type": "code",
   "execution_count": 47,
   "metadata": {},
   "outputs": [
    {
     "data": {
      "text/plain": [
       "XGBClassifier(base_score=0.5, booster='gbtree', colsample_bylevel=1,\n",
       "       colsample_bytree=1, gamma=0, learning_rate=0.1, max_delta_step=0,\n",
       "       max_depth=3, max_features='sqrt', min_child_weight=1, missing=None,\n",
       "       n_estimators=10, n_jobs=1, nthread=None,\n",
       "       objective='binary:logistic', random_state=10, reg_alpha=0,\n",
       "       reg_lambda=1, scale_pos_weight=1, seed=None, silent=True,\n",
       "       subsample=0.8)"
      ]
     },
     "execution_count": 47,
     "metadata": {},
     "output_type": "execute_result"
    }
   ],
   "source": [
    "grid_search.best_estimator_"
   ]
  },
  {
   "cell_type": "code",
   "execution_count": 48,
   "metadata": {},
   "outputs": [],
   "source": [
    "gbm=xgboost.XGBClassifier(base_score=0.5, booster='gbtree', colsample_bylevel=1,\n",
    "       colsample_bytree=1, gamma=0, learning_rate=0.5, max_delta_step=0,\n",
    "       max_depth=3, max_features='sqrt', min_child_weight=1, missing=None,\n",
    "       n_estimators=100, n_jobs=1, nthread=None,\n",
    "       objective='binary:logistic', random_state=10, reg_alpha=0,\n",
    "       reg_lambda=1, scale_pos_weight=1, seed=None, silent=True,\n",
    "       subsample=0.8).fit(train_X, train_y)"
   ]
  },
  {
   "cell_type": "code",
   "execution_count": 49,
   "metadata": {},
   "outputs": [],
   "source": [
    "y_pred = gbm.predict(X_test_encode.as_matrix())"
   ]
  },
  {
   "cell_type": "code",
   "execution_count": 50,
   "metadata": {},
   "outputs": [
    {
     "name": "stdout",
     "output_type": "stream",
     "text": [
      "[[398920      0]\n",
      " [  6313      0]]\n",
      "              precision    recall  f1-score   support\n",
      "\n",
      "           0       0.98      1.00      0.99    398920\n",
      "           1       0.00      0.00      0.00      6313\n",
      "\n",
      "   micro avg       0.98      0.98      0.98    405233\n",
      "   macro avg       0.49      0.50      0.50    405233\n",
      "weighted avg       0.97      0.98      0.98    405233\n",
      "\n"
     ]
    }
   ],
   "source": [
    "print(confusion_matrix(y_test, y_pred))\n",
    "print(classification_report(y_test, y_pred))"
   ]
  },
  {
   "cell_type": "code",
   "execution_count": 51,
   "metadata": {},
   "outputs": [
    {
     "data": {
      "text/plain": [
       "0.5"
      ]
     },
     "execution_count": 51,
     "metadata": {},
     "output_type": "execute_result"
    }
   ],
   "source": [
    "from sklearn.metrics import roc_auc_score\n",
    "roc_auc_score(y_test, y_pred)"
   ]
  },
  {
   "cell_type": "code",
   "execution_count": 52,
   "metadata": {},
   "outputs": [
    {
     "name": "stdout",
     "output_type": "stream",
     "text": [
      "0.5\n"
     ]
    },
    {
     "data": {
      "image/png": "[encoded data removed]",
      "text/plain": [
       "<Figure size 432x288 with 1 Axes>"
      ]
     },
     "metadata": {
      "needs_background": "light"
     },
     "output_type": "display_data"
    }
   ],
   "source": [
    "from sklearn import metrics\n",
    "import matplotlib.pyplot as plt\n",
    "\n",
    "fpr_xg, tpr_xg, thresholds = metrics.roc_curve(y_test, y_pred)\n",
    "print(metrics.auc(fpr_xg, tpr_xg))\n",
    "auc_xgb = np.trapz(tpr_xg,fpr_xg)\n",
    "plt.plot(fpr_xg,tpr_xg,label=\" auc=\"+str(auc_xgb))\n",
    "plt.legend(loc=4)\n",
    "plt.show()"
   ]
  },
  {
   "cell_type": "code",
   "execution_count": 53,
   "metadata": {},
   "outputs": [],
   "source": [
    "import pickle\n",
    "\"\"\"Saving the Model\"\"\"\n",
    "XGB_Model_h1b = 'XGB_Model_h1b.sav'\n",
    "pickle.dump(gbm, open(XGB_Model_h1b, 'wb'))"
   ]
  },
  {
   "cell_type": "code",
   "execution_count": null,
   "metadata": {},
   "outputs": [],
   "source": []
  }
 ],
 "metadata": {
  "kernelspec": {
   "display_name": "Python 3",
   "language": "python",
   "name": "python3"
  },
  "language_info": {
   "codemirror_mode": {
    "name": "ipython",
    "version": 3
   },
   "file_extension": ".py",
   "mimetype": "text/x-python",
   "name": "python",
   "nbconvert_exporter": "python",
   "pygments_lexer": "ipython3",
   "version": "3.6.7"
  }
 },
 "nbformat": 4,
 "nbformat_minor": 2
}
